{
 "cells": [
  {
   "cell_type": "code",
   "execution_count": 4,
   "metadata": {},
   "outputs": [],
   "source": [
    "from music_web import *"
   ]
  },
  {
   "cell_type": "code",
   "execution_count": null,
   "metadata": {},
   "outputs": [],
   "source": [
    "ne_web = NEMusic()\n",
    "ne_web.open_home_and_wait()\n",
    "res = ne_web.get_album_search_res(\"ゼルダの伝説\")\n",
    "print(res)\n",
    "# ne_web.slnm.hold_on()"
   ]
  },
  {
   "cell_type": "code",
   "execution_count": 2,
   "metadata": {},
   "outputs": [
    {
     "name": "stdout",
     "output_type": "stream",
     "text": [
      "[2025-02-23 22:20:40,397][INFO][auto_web.py,66,switch_frame_by_id][tid:23604] switch to new frame ok\n",
      "[2025-02-23 22:20:40,431][INFO][music_web.py,226,get_song_tb_cur_state][tid:23604] cur_state: 22首歌\n",
      "[2025-02-23 22:21:14,173][INFO][music_web.py,101,open_home_and_wait][tid:23604] login ok\n",
      "[2025-02-23 22:21:33,235][INFO][auto_web.py,66,switch_frame_by_id][tid:23604] switch to new frame ok\n",
      "[2025-02-23 22:21:46,253][INFO][auto_web.py,66,switch_frame_by_id][tid:23604] switch to new frame ok\n",
      "[2025-02-23 22:21:47,343][INFO][music_web.py,226,get_song_tb_cur_state][tid:23604] cur_state: 28首歌\n",
      "[['硝子のLoneliness', 'https://music.163.com/song?id=1345878426', False], ['Bitter\\xa0sweet\\xa0pain', 'https://music.163.com/song?id=1345878427', False], ['エターナル', 'https://music.163.com/song?id=1345878424', False], ['One-way\\xa0Shining', 'https://music.163.com/song?id=1345878425', False], ['Crystal\\xa0Love', 'https://music.163.com/song?id=1345879225', False], ['Brilliant\\xa0Days - (ゲーム「Clear」EDテーマ)', 'https://music.163.com/song?id=1345878423', False]]\n"
     ]
    }
   ],
   "source": [
    "music_web = NEMusic()\n",
    "music_web.open_home_and_wait()\n",
    "res = music_web.get_song_list(\"https://music.163.com/album?id=75545158\")\n",
    "music_web.album_add_song_table()\n",
    "print(res)\n",
    "# music_web.slnm.hold_on()"
   ]
  },
  {
   "cell_type": "code",
   "execution_count": 19,
   "metadata": {},
   "outputs": [
    {
     "name": "stdout",
     "output_type": "stream",
     "text": [
      "我喜欢的音乐\n",
      "临时存放001\n"
     ]
    }
   ],
   "source": [
    "for ele in music_web.slnm.web.find_elements(By.XPATH, '//div[@class=\"zcnt\"]/div[1]/div[2]/ul/li'):\n",
    "    print(ele.find_element(By.XPATH, './div/p/a').text)\n",
    "    if ele.find_element(By.XPATH, './div/p/a').text == '临时存放001':\n",
    "        ele.click()\n",
    "        break"
   ]
  },
  {
   "cell_type": "code",
   "execution_count": 1,
   "metadata": {},
   "outputs": [
    {
     "name": "stdout",
     "output_type": "stream",
     "text": [
      "[2025-02-24 10:11:53,358][INFO][music_web.py,101,open_home_and_wait][tid:15564] login ok\n",
      "[2025-02-24 10:11:53,643][INFO][vgmdb.py,70,init_inner][tid:15564] find 66000 html is ok\n",
      "[2025-02-24 10:11:53,644][INFO][vgmdb.py,71,init_inner][tid:15564] find 4746 album is ok\n"
     ]
    }
   ],
   "source": [
    "from auto_web import *\n",
    "from vgmdb import *\n",
    "from music_web import *\n",
    "\n",
    "\n",
    "mweb = QQMusic()\n",
    "mweb.open_home_and_wait()\n",
    "\n",
    "vgmdb_no_info_cnt = 0\n",
    "remove_like_cmt = 0\n",
    "ok_album_cnt = 0\n",
    "fail_album_cnt = 0\n",
    "\n",
    "\n",
    "vgmdb_ins = VgmdbAlbumInfo()\n",
    "vgmdb_ins.set_point(5000)"
   ]
  },
  {
   "cell_type": "code",
   "execution_count": 7,
   "metadata": {},
   "outputs": [
    {
     "name": "stdout",
     "output_type": "stream",
     "text": [
      "[2025-02-24 23:39:10,497][INFO][vgmdb.py,70,init_inner][tid:33500] find 66000 html is ok\n",
      "[2025-02-24 23:39:10,498][INFO][vgmdb.py,71,init_inner][tid:33500] find 4746 album is ok\n",
      "\n",
      "\n",
      "meta: 2939.html\n",
      "{'en': 'Doko Demo Issyo Soundtrack ~Koneko mo Issyo~', 'ja': 'どこでもいっしょサウンドトラック ～こねこもいっしょ～', 'ja-Latn': 'Doko Demo Issyo Soundtrack ~Koneko mo Issyo~'}\n"
     ]
    },
    {
     "data": {
      "text/plain": [
       "[('ja', 'どこでもいっしょサウンドトラック ～こねこもいっしょ～'),\n",
       " ('en', 'Doko Demo Issyo Soundtrack ~Koneko mo Issyo~'),\n",
       " ('ja-Latn', 'Doko Demo Issyo Soundtrack ~Koneko mo Issyo~')]"
      ]
     },
     "execution_count": 7,
     "metadata": {},
     "output_type": "execute_result"
    }
   ],
   "source": [
    "from auto_web import *\n",
    "from vgmdb import *\n",
    "from music_web import *\n",
    "\n",
    "vgmdb_ins = VgmdbAlbumInfo(\"./album/qq/\")\n",
    "vgmdb_ins.set_point(5000)\n",
    "\n",
    "i = 2939\n",
    "\n",
    "vgmdb_ins.init_cur_album_info()\n",
    "\n",
    "if vgmdb_ins.get_album(i) is None:\n",
    "    vgmdb_no_info_cnt += 1\n",
    "    exit(1)\n",
    "\n",
    "# 寻找专辑名匹配的专辑\n",
    "find_flag = False\n",
    "print(\"\\n\")\n",
    "print(f\"meta: {i}.html\")\n",
    "print(vgmdb_ins.album_info[\"name\"])\n",
    "sch_name = \"\"\n",
    "album_url = \"\"\n",
    "match_score = 0\n",
    "vg_album_name_by_lang = list(vgmdb_ins.album_info[\"name\"].items())\n",
    "\n",
    "vg_album_name_by_lang.sort(key=lambda x: x[0] != \"ja\")\n",
    "\n",
    "vg_album_name_by_lang"
   ]
  },
  {
   "cell_type": "code",
   "execution_count": 10,
   "metadata": {},
   "outputs": [
    {
     "data": {
      "text/plain": [
       "['Theme Song (\"Doko Demo Issyo\" Opening Version)',\n",
       " 'Character Select',\n",
       " 'Picture Diary Song (\"Doko Demo Issyo\" Version)',\n",
       " 'Indian Charm',\n",
       " 'Virgin Blue',\n",
       " 'Imagination',\n",
       " 'Like The Mic Checker',\n",
       " 'Paradis',\n",
       " 'Doko Demo Issyo',\n",
       " 'Theme Song (\"Koneko mo Issyo\" Opening Version)',\n",
       " 'Picture Diary Song (\"Koneko mo Issyo\" Version)',\n",
       " 'Legong',\n",
       " 'Cool Guy!',\n",
       " 'Looking for a Skillful Love',\n",
       " 'Disco DE Dance',\n",
       " 'Techno Cracker',\n",
       " 'My Way',\n",
       " \"Let's Get Move\",\n",
       " 'Ending',\n",
       " 'Theme Song (\"Doko Demo Issyo\" Staff Roll Version)',\n",
       " 'テーマ曲 (「どこでもいっしょ」オープニングバージョン)',\n",
       " 'キャラクターセレクト',\n",
       " 'えにっきの曲 (「どこでもいっしょ」バージョン)',\n",
       " 'Indian Charm',\n",
       " 'Virgin Blue',\n",
       " 'Imagination',\n",
       " 'Like The Mic Checker',\n",
       " 'Paradis',\n",
       " 'どこでもいっしょ',\n",
       " 'テーマ曲 (「こねこもいっしょ」オープニングバージョン)',\n",
       " 'えにっきの曲 (「こねこもいっしょ」バージョン)',\n",
       " 'Legong',\n",
       " 'Cool Guy!',\n",
       " '上手な恋のさがし方',\n",
       " 'Disco DE Dance',\n",
       " 'Techno Cracker',\n",
       " 'My Way',\n",
       " \"Let's Get Move\",\n",
       " 'エンディング',\n",
       " 'テーマ曲 (「どこでもいっしょ」スタッフロールバージョン)']"
      ]
     },
     "execution_count": 10,
     "metadata": {},
     "output_type": "execute_result"
    }
   ],
   "source": [
    "[song for lang in vgmdb_ins.album_info[\"tracklist\"] for song in vgmdb_ins.album_info[\"tracklist\"][lang]]"
   ]
  },
  {
   "cell_type": "code",
   "execution_count": 18,
   "metadata": {},
   "outputs": [
    {
     "data": {
      "text/plain": [
       "'どこでもいっしょサウンドトラック ～こねこもいっしょ～'"
      ]
     },
     "execution_count": 18,
     "metadata": {},
     "output_type": "execute_result"
    }
   ],
   "source": [
    "name_lang, album_name = vg_album_name_by_lang[0]\n",
    "album_name"
   ]
  },
  {
   "cell_type": "code",
   "execution_count": null,
   "metadata": {},
   "outputs": [],
   "source": [
    "album_search_res = mweb.get_album_search_res(album_name)\n"
   ]
  },
  {
   "cell_type": "code",
   "execution_count": 26,
   "metadata": {},
   "outputs": [],
   "source": [
    "album_search_res = [[item[0], item[1], fuzz_cmp_str(album_name, item[0])]\n",
    "                    for item in album_search_res]\n",
    "[sch_name, album_url, score] = album_search_res[0]"
   ]
  },
  {
   "cell_type": "code",
   "execution_count": 28,
   "metadata": {},
   "outputs": [],
   "source": [
    "sch_tk_list = mweb.get_song_list(album_url)"
   ]
  },
  {
   "cell_type": "code",
   "execution_count": 29,
   "metadata": {},
   "outputs": [
    {
     "data": {
      "text/plain": [
       "[['Techno Cracker',\n",
       "  'https://y.qq.com/n/ryqq/songDetail/003DdkHF4BONNJ',\n",
       "  False],\n",
       " ['Disco DE Dance',\n",
       "  'https://y.qq.com/n/ryqq/songDetail/004gUbzw0NCuT4',\n",
       "  False],\n",
       " ['Indian Charm', 'https://y.qq.com/n/ryqq/songDetail/000RuRO82Zw62g', False],\n",
       " ['Virgin Blue', 'https://y.qq.com/n/ryqq/songDetail/001X1QIp3zXB1n', True],\n",
       " ['Imagination', 'https://y.qq.com/n/ryqq/songDetail/0025dL931LCqdW', True],\n",
       " ['Cool Guy!', 'https://y.qq.com/n/ryqq/songDetail/004E56ko3Xxshb', True],\n",
       " ['Paradis', 'https://y.qq.com/n/ryqq/songDetail/000gJkBz4UuD7F', True],\n",
       " ['どこでもいっしょ', 'https://y.qq.com/n/ryqq/songDetail/000fhaIs34fXyE', False],\n",
       " ['Legong', 'https://y.qq.com/n/ryqq/songDetail/001q4zJ44Ufp6m', True],\n",
       " ['上手な恋のさがし方', 'https://y.qq.com/n/ryqq/songDetail/000DeIUs0a8yFx', False]]"
      ]
     },
     "execution_count": 29,
     "metadata": {},
     "output_type": "execute_result"
    }
   ],
   "source": [
    "sch_tk_list\n"
   ]
  },
  {
   "cell_type": "code",
   "execution_count": null,
   "metadata": {},
   "outputs": [
    {
     "name": "stdout",
     "output_type": "stream",
     "text": [
      "English\n",
      "Japanese\n"
     ]
    }
   ],
   "source": [
    "for lang in vgmdb_ins.album_info[\"tracklist\"].keys():\n",
    "    print(lang)\n",
    "    total_score = sum([vgmdb_ins.get_best_match_idx(song[0], vgmdb_ins.album_info[\"tracklist\"][lang])[1]\n",
    "                                    for song in sch_tk_list])"
   ]
  },
  {
   "cell_type": "code",
   "execution_count": 33,
   "metadata": {},
   "outputs": [
    {
     "data": {
      "text/plain": [
       "['Techno Cracker', 'https://y.qq.com/n/ryqq/songDetail/003DdkHF4BONNJ', False]"
      ]
     },
     "execution_count": 33,
     "metadata": {},
     "output_type": "execute_result"
    }
   ],
   "source": [
    "sch_tk_list[0]"
   ]
  },
  {
   "cell_type": "code",
   "execution_count": 35,
   "metadata": {},
   "outputs": [
    {
     "data": {
      "text/plain": [
       "[['Techno Cracker',\n",
       "  'https://y.qq.com/n/ryqq/songDetail/003DdkHF4BONNJ',\n",
       "  False],\n",
       " ['Disco DE Dance',\n",
       "  'https://y.qq.com/n/ryqq/songDetail/004gUbzw0NCuT4',\n",
       "  False],\n",
       " ['Indian Charm', 'https://y.qq.com/n/ryqq/songDetail/000RuRO82Zw62g', False],\n",
       " ['Virgin Blue', 'https://y.qq.com/n/ryqq/songDetail/001X1QIp3zXB1n', True],\n",
       " ['Imagination', 'https://y.qq.com/n/ryqq/songDetail/0025dL931LCqdW', True],\n",
       " ['Cool Guy!', 'https://y.qq.com/n/ryqq/songDetail/004E56ko3Xxshb', True],\n",
       " ['Paradis', 'https://y.qq.com/n/ryqq/songDetail/000gJkBz4UuD7F', True],\n",
       " ['どこでもいっしょ', 'https://y.qq.com/n/ryqq/songDetail/000fhaIs34fXyE', False],\n",
       " ['Legong', 'https://y.qq.com/n/ryqq/songDetail/001q4zJ44Ufp6m', True],\n",
       " ['上手な恋のさがし方', 'https://y.qq.com/n/ryqq/songDetail/000DeIUs0a8yFx', False]]"
      ]
     },
     "execution_count": 35,
     "metadata": {},
     "output_type": "execute_result"
    }
   ],
   "source": [
    "sch_tk_list"
   ]
  }
 ],
 "metadata": {
  "kernelspec": {
   "display_name": "base",
   "language": "python",
   "name": "python3"
  },
  "language_info": {
   "codemirror_mode": {
    "name": "ipython",
    "version": 3
   },
   "file_extension": ".py",
   "mimetype": "text/x-python",
   "name": "python",
   "nbconvert_exporter": "python",
   "pygments_lexer": "ipython3",
   "version": "3.10.9"
  }
 },
 "nbformat": 4,
 "nbformat_minor": 2
}
