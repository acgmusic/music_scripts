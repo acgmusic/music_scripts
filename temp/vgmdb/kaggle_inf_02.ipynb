{
 "cells": [
  {
   "cell_type": "code",
   "execution_count": null,
   "metadata": {},
   "outputs": [
    {
     "name": "stdout",
     "output_type": "stream",
     "text": [
      "wait btn enable...\n",
      "start running...\n",
      "total num: 2183\n",
      "cur ok:  2129\n",
      "cur ok:  2134\n",
      "cur ok:  2136\n",
      "cur ok:  2140\n",
      "cur ok:  2143\n",
      "cur ok:  2145\n",
      "cur ok:  2149\n",
      "cur ok:  2152\n",
      "cur ok:  2156\n",
      "cur ok:  2160\n",
      "cur ok:  2163\n",
      "cur ok:  2168\n",
      "cur ok:  2171\n",
      "cur ok:  2173\n",
      "cur ok:  2177\n",
      "cur ok:  2181\n",
      "cur ok:  2183\n",
      "task finished!!!\n"
     ]
    }
   ],
   "source": [
    "from kaggle_auto_inf import *\n",
    "\n",
    "cookie_dir = r\"C:\\Users\\11527\\AppData\\Local\\Google\\Chrome\\slnm_data3\"\n",
    "cache_dir = r\"E:\\music\\src\\vgmdb\\cache\\kaggle_3\"\n",
    "script_url = \"https://www.kaggle.com/code/wanggang19980101/vocal-check/edit\"\n",
    "\n",
    "while True:\n",
    "    kaggle_ins = kaggle_vocal_check_inf(cookie_dir, cache_dir, script_url)\n",
    "    kaggle_ins.login()\n",
    "    kaggle_ins.open_script()\n",
    "    # assert 0\n",
    "    kaggle_ins.prepare()\n",
    "    kaggle_ins.start()\n",
    "    can_finish = kaggle_ins.running()\n",
    "    res = kaggle_ins.new_res\n",
    "    if can_finish:\n",
    "        kaggle_ins.exit()\n",
    "        break\n",
    "    print(\"retrying...\")\n",
    "    kaggle_ins.exit()"
   ]
  }
 ],
 "metadata": {
  "kernelspec": {
   "display_name": "base",
   "language": "python",
   "name": "python3"
  },
  "language_info": {
   "codemirror_mode": {
    "name": "ipython",
    "version": 3
   },
   "file_extension": ".py",
   "mimetype": "text/x-python",
   "name": "python",
   "nbconvert_exporter": "python",
   "pygments_lexer": "ipython3",
   "version": "3.10.9"
  }
 },
 "nbformat": 4,
 "nbformat_minor": 2
}
